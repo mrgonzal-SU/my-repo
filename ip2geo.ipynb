{
 "cells": [
  {
   "cell_type": "markdown",
   "metadata": {},
   "source": [
    "# IP2GEO_FUN:"
   ]
  },
  {
   "cell_type": "markdown",
   "metadata": {},
   "source": [
    "-----------\n",
    "\n",
    "# Purpose:\n",
    "\n",
    "The purpose of this script is to create a dataframe consisting of longitude and latitude entries based on an original dataframe comprised soley of IP address data.\n",
    "\n",
    "\n",
    "# Uses:\n",
    "Inspiration for this project came from working with survey data responses. This data included IP of the users who completed the survey. \n",
    "\n",
    "By creating a dataframe comprised of geo data, user location can then be easily visualized with basemap/bokeh etc..\n",
    "\n",
    "----------\n",
    "\n",
    "# Further Thoughts:\n",
    "This script, although helpful for simple uses, is incredibly slow. In the future I would be interested in increasing the speed.\n",
    "\n",
    "Furthermore, it might be worthwhile to alter the script to add geo_df to to the original dataframe. This would be especially helpful for if linking data in bokeh\n",
    "\n",
    "I believe that API limits the amount of requests per day. For larger data requests this might be easily addressed. \n",
    "\n",
    "\n",
    "--------"
   ]
  },
  {
   "cell_type": "code",
   "execution_count": 1,
   "metadata": {},
   "outputs": [],
   "source": [
    "import pandas as pd \n",
    "from ip2geotools.databases.noncommercial import DbIpCity \n",
    "#^requires installation"
   ]
  },
  {
   "cell_type": "code",
   "execution_count": 2,
   "metadata": {},
   "outputs": [],
   "source": [
    "def get_geo(lst,x):\n",
    "    response = DbIpCity.get(lst[x], api_key='free')\n",
    "    a = response.latitude\n",
    "    b = response.longitude\n",
    "    return a,b\n",
    "\n",
    "#function that uses DbIpCity to retrieve  lat and lon for a given list index "
   ]
  },
  {
   "cell_type": "code",
   "execution_count": 3,
   "metadata": {},
   "outputs": [],
   "source": [
    "df = pd.read_csv(\"filename.csv\") \n",
    "#read in your csv\n",
    "\n",
    "\n",
    "data = df['IP Address']          \n",
    "#in survey data I worked with came with col with this title\n",
    "\n",
    "\n",
    "\n",
    "lst_data = data.tolist() \n",
    "#get_geo is defined to accept list data\n",
    "\n",
    "\n",
    "\n",
    "fin_lst = []\n",
    "for i in range(len(lst_data)): \n",
    "    fin_lst.append(get_geo(lst_data,i))\n",
    "#len(lst(data)) allows loop to obtain tuple(latitude and longitude) for every ip in list\n",
    "\n",
    "\n",
    "\n",
    "geo_df = pd.DataFrame(fin_lst, columns =['Latitude', 'Longitude']) \n",
    "#create new dataframe here, now we can easily manipulate data for visualization/analysis\n",
    "\n"
   ]
  },
  {
   "cell_type": "code",
   "execution_count": 4,
   "metadata": {},
   "outputs": [
    {
     "data": {
      "text/html": [
       "<div>\n",
       "<style scoped>\n",
       "    .dataframe tbody tr th:only-of-type {\n",
       "        vertical-align: middle;\n",
       "    }\n",
       "\n",
       "    .dataframe tbody tr th {\n",
       "        vertical-align: top;\n",
       "    }\n",
       "\n",
       "    .dataframe thead th {\n",
       "        text-align: right;\n",
       "    }\n",
       "</style>\n",
       "<table border=\"1\" class=\"dataframe\">\n",
       "  <thead>\n",
       "    <tr style=\"text-align: right;\">\n",
       "      <th></th>\n",
       "      <th>Latitude</th>\n",
       "      <th>Longitude</th>\n",
       "    </tr>\n",
       "  </thead>\n",
       "  <tbody>\n",
       "    <tr>\n",
       "      <th>0</th>\n",
       "      <td>40.666149</td>\n",
       "      <td>-89.580098</td>\n",
       "    </tr>\n",
       "    <tr>\n",
       "      <th>1</th>\n",
       "      <td>40.695655</td>\n",
       "      <td>-73.325675</td>\n",
       "    </tr>\n",
       "    <tr>\n",
       "      <th>2</th>\n",
       "      <td>42.283431</td>\n",
       "      <td>-71.232833</td>\n",
       "    </tr>\n",
       "  </tbody>\n",
       "</table>\n",
       "</div>"
      ],
      "text/plain": [
       "    Latitude  Longitude\n",
       "0  40.666149 -89.580098\n",
       "1  40.695655 -73.325675\n",
       "2  42.283431 -71.232833"
      ]
     },
     "execution_count": 4,
     "metadata": {},
     "output_type": "execute_result"
    }
   ],
   "source": [
    "geo_df.head(3)\n",
    "#check"
   ]
  },
  {
   "cell_type": "code",
   "execution_count": null,
   "metadata": {},
   "outputs": [],
   "source": []
  }
 ],
 "metadata": {
  "kernelspec": {
   "display_name": "Python 3",
   "language": "python",
   "name": "python3"
  },
  "language_info": {
   "codemirror_mode": {
    "name": "ipython",
    "version": 3
   },
   "file_extension": ".py",
   "mimetype": "text/x-python",
   "name": "python",
   "nbconvert_exporter": "python",
   "pygments_lexer": "ipython3",
   "version": "3.6.6"
  }
 },
 "nbformat": 4,
 "nbformat_minor": 2
}
